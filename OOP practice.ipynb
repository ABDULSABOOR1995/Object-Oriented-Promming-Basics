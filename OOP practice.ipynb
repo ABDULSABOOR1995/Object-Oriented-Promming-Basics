{
 "cells": [
  {
   "cell_type": "markdown",
   "metadata": {},
   "source": [
    "<a id='oop'></a>\n",
    "# Object Oriented Programming(OOP)\n",
    "Python is a multi-paradigm programming language. Meaning, it supports different programming approach.One of the popular approach to solve a programming problem is by creating objects. This is known as Object-Oriented Programming (OOP).\n",
    "\n",
    "An object has two characteristics:\n",
    "\n",
    "(i) attributes\n",
    "(ii) behavior\n",
    "Let's take an example:\n",
    "\n",
    "Parrot is an object,\n",
    "<br>\n",
    "name, age, color are attributes<br>\n",
    "singing, dancing are behavior<br>\n",
    "The concept of OOP in Python focuses on creating reusable code. This concept is also known as DRY (Don't Repeat Yourself).\n",
    "\n",
    "In Python, the concept of OOP follows some basic principles:\n",
    "### 1. Inheritance\n",
    "A process of using details from a new class without modifying existing class.\n",
    "\n",
    "### 2. Encapsulation\n",
    "Hiding the private details of a class from other objects.\n",
    "\n",
    "### 3. Polymorphism\n",
    "A concept of using common operation in different ways for different data input.\n",
    "\n",
    "## Class\n",
    "Classes are the templates that helps you to standardize and organize information <br><b> OR </b><br> Class is a template that organize the standard set of information for each user\n",
    "Clinic eg In clinic receptionist provide you a form in which title, name, id allare organized in the same way for each patient.But the information they providedare different and unique.\n",
    "\n",
    "## Object\n",
    "An object (instance) is an instantiation of a class. When class is defined, only the description for the object is defined. Therefore, no memory or storage is allocated."
   ]
  },
  {
   "cell_type": "code",
   "execution_count": null,
   "metadata": {},
   "outputs": [],
   "source": []
  },
  {
   "cell_type": "markdown",
   "metadata": {},
   "source": [
    "<a id='h1'></a>\n",
    "### 1. Define a class"
   ]
  },
  {
   "cell_type": "code",
   "execution_count": null,
   "metadata": {},
   "outputs": [],
   "source": [
    "class Patient():        # Use this class for taking data of each patient.\n",
    "                        # Every patient has its own instance(object) created in which his unique information is stored\n",
    "                        # Information of all patients structured in a same way.\n",
    "                        # Each instance is an individual patient record"
   ]
  },
  {
   "cell_type": "code",
   "execution_count": null,
   "metadata": {},
   "outputs": [],
   "source": []
  },
  {
   "cell_type": "markdown",
   "metadata": {},
   "source": [
    "<a id='h2'></a>\n",
    "### 2. Define _init_ method and create objects of a class "
   ]
  },
  {
   "cell_type": "code",
   "execution_count": null,
   "metadata": {},
   "outputs": [],
   "source": [
    "class Patient():\n",
    "    def __init__(self, full_name): # it represent unique information about each user\n",
    "        self.full_name = full_name # full_name is an attribute of class that is different for each patient\n",
    "                                   # init method is a method that python runs automatically when we create instance of a class\n",
    "                                   # every variable that has self is available to all methods in class\n",
    "patient344 = Patient(\"Abdul Saboor\") # make instance of class\n",
    "patient345 = Patient(\"Rahima Khan\") # 343 is a unique id of patient which assign automatically.\n",
    "patient346 = Patient(\"Bilal Hussain\") # here we are saying that create copy instance(object) of patient and fill value of at full_name Abdul Saboor\n",
    "patient347 = Patient(\"Fizza Shahid\")\n",
    "patient348 = Patient(\"Shehzor Shehzad\") # here we crete five instances of class that is equivalent of 5 fillede out forms"
   ]
  },
  {
   "cell_type": "code",
   "execution_count": null,
   "metadata": {},
   "outputs": [],
   "source": [
    "'''you could also create dictionary for that information e.g'''\n",
    "#patient344 = {full_name: \"Abdul Saboor\" }\n",
    "#patient345 = {full_name: \"Rahima Khan\" }\n",
    "#patient346 = {full_name: \"Bilal Hussain\"}\n",
    "#patient347 = {full_name: \"Fizza Shahid \"}\n",
    "#patient348 = {full_name: \"Shehzor Shehzad\"}\n",
    "'''But it is like the receptionist fill form herself for every patient that does not make sense'''"
   ]
  },
  {
   "cell_type": "code",
   "execution_count": null,
   "metadata": {},
   "outputs": [],
   "source": []
  },
  {
   "cell_type": "markdown",
   "metadata": {},
   "source": [
    "<a id='h3'></a>\n",
    "### 3. Call attributes of a class with different objects"
   ]
  },
  {
   "cell_type": "code",
   "execution_count": null,
   "metadata": {},
   "outputs": [],
   "source": [
    "'''get the information of class'''\n",
    "print(patient344.full_name)\n",
    "print(patient345.full_name)\n",
    "print(patient346.full_name)\n",
    "print(patient347.full_name)\n",
    "print(patient348.full_name)"
   ]
  },
  {
   "cell_type": "code",
   "execution_count": null,
   "metadata": {},
   "outputs": [],
   "source": []
  },
  {
   "cell_type": "markdown",
   "metadata": {},
   "source": [
    "<a id='h4'></a>\n",
    "### 4. Add attributes to a class"
   ]
  },
  {
   "cell_type": "code",
   "execution_count": null,
   "metadata": {},
   "outputs": [],
   "source": [
    "'''Adding more information in class'''\n",
    "class Patient():\n",
    "    def __init__(self, full_name, age, father_name): \n",
    "        self.full_name = full_name \n",
    "        self.age = age\n",
    "        self.father_name = father_name \n",
    "patient344 = Patient(\"Abdul saboor\", 23, \"Muhammad Feroz\")\n",
    "patient345 = Patient(\"Rahima Khan\", 18, \"Samundar Khan\")\n",
    "patient346 = Patient(\"Bilal Hussain\", 20, \"Usman Hussain\")\n",
    "patient347 = Patient(\"Fizza Shahid\", 18, \"Shahid Hussain\")\n",
    "patient348 = Patient(\"Shehzor Shehzad\", 14, \"Shehzaed Sattar\")\n",
    "patient344.age"
   ]
  },
  {
   "cell_type": "code",
   "execution_count": null,
   "metadata": {},
   "outputs": [],
   "source": []
  },
  {
   "cell_type": "markdown",
   "metadata": {},
   "source": [
    "<a id='h5'></a>\n",
    "### 5. Call different attributes"
   ]
  },
  {
   "cell_type": "code",
   "execution_count": null,
   "metadata": {},
   "outputs": [],
   "source": [
    "patient344.father_name"
   ]
  },
  {
   "cell_type": "code",
   "execution_count": null,
   "metadata": {},
   "outputs": [],
   "source": [
    "patient346.age"
   ]
  },
  {
   "cell_type": "code",
   "execution_count": null,
   "metadata": {},
   "outputs": [],
   "source": []
  },
  {
   "cell_type": "markdown",
   "metadata": {},
   "source": [
    "<a id='h6'></a>\n",
    "### 6. Adding methods to a class"
   ]
  },
  {
   "cell_type": "code",
   "execution_count": null,
   "metadata": {},
   "outputs": [],
   "source": [
    "'''adding methods to a class'''\n",
    "class Patient():\n",
    "    def __init__(self, full_name, age, father_name): \n",
    "        self.full_name = full_name \n",
    "        self.age = age\n",
    "        self.father_name = father_name \n",
    "        \n",
    "    def patient_info_in_1line(self): # self is refrence of instance, it is used in every method, it provides access to variables that are initializes with self in class(different methods)\n",
    "        information = \"Patient Name: \"+self.full_name+\"\\nFather Name: \"+self.father_name+\"\\nAge: \"+str(self.age)\n",
    "        return information\n",
    "patient344 = Patient(\"Abdul saboor\", 23, \"Muhammad Feroz\")\n",
    "patient345 = Patient(\"Rahima Khan\", 18, \"Samundar Khan\")\n",
    "patient346 = Patient(\"Bilal Hussain\", 20, \"Usman Hussain\")\n",
    "patient347 = Patient(\"Fizza Shahid\", 18, \"Shahid Hussain\")\n",
    "patient348 = Patient(\"Shehzor Shehzad\", 14, \"Shehzaed Sattar\")\n",
    "print(patient344.patient_info_in_1line())"
   ]
  },
  {
   "cell_type": "code",
   "execution_count": null,
   "metadata": {},
   "outputs": [],
   "source": []
  },
  {
   "cell_type": "markdown",
   "metadata": {},
   "source": [
    "<a id='h7'></a>\n",
    "### 7. Calling method of a class"
   ]
  },
  {
   "cell_type": "code",
   "execution_count": null,
   "metadata": {},
   "outputs": [],
   "source": [
    "print(patient345.patient_info_in_1line())"
   ]
  },
  {
   "cell_type": "code",
   "execution_count": null,
   "metadata": {},
   "outputs": [],
   "source": [
    "print(patient346.patient_info_in_1line())"
   ]
  },
  {
   "cell_type": "code",
   "execution_count": null,
   "metadata": {},
   "outputs": [],
   "source": [
    "print(patient347.patient_info_in_1line())"
   ]
  },
  {
   "cell_type": "code",
   "execution_count": null,
   "metadata": {},
   "outputs": [],
   "source": [
    "print(patient348.patient_info_in_1line())"
   ]
  },
  {
   "cell_type": "markdown",
   "metadata": {},
   "source": [
    "<b>Stop:</b> Below is the recap of what we have done before, if you want to go through it you can do here, otherwise go to next concepts"
   ]
  },
  {
   "cell_type": "code",
   "execution_count": null,
   "metadata": {},
   "outputs": [],
   "source": []
  },
  {
   "cell_type": "code",
   "execution_count": null,
   "metadata": {},
   "outputs": [],
   "source": [
    "class Dog():\n",
    "    def __init__(self, name, age):\n",
    "        self.name = name\n",
    "        self.age = age\n",
    "        \n",
    "    def sit(self):\n",
    "        print(self.name.title()+\" is now sitting\")\n",
    "        \n",
    "    def roll_over(self):\n",
    "        print(self.name.title()+\" is now roll over\")\n",
    "        \n",
    "    def about_age(self):\n",
    "        print(self.name.title()+\" age is \"+str(self.age))\n",
    "        \n",
    "dog1 = Dog(\"Puppy\", 5)"
   ]
  },
  {
   "cell_type": "code",
   "execution_count": null,
   "metadata": {},
   "outputs": [],
   "source": [
    "dog1.name"
   ]
  },
  {
   "cell_type": "code",
   "execution_count": null,
   "metadata": {},
   "outputs": [],
   "source": [
    "dog1.age"
   ]
  },
  {
   "cell_type": "code",
   "execution_count": null,
   "metadata": {},
   "outputs": [],
   "source": [
    "dog1.sit()"
   ]
  },
  {
   "cell_type": "code",
   "execution_count": null,
   "metadata": {},
   "outputs": [],
   "source": [
    "dog1.roll_over()"
   ]
  },
  {
   "cell_type": "code",
   "execution_count": null,
   "metadata": {},
   "outputs": [],
   "source": [
    "dog1.about_age()"
   ]
  },
  {
   "cell_type": "code",
   "execution_count": null,
   "metadata": {},
   "outputs": [],
   "source": [
    "dog2 = Dog(\"hamma\", 10)"
   ]
  },
  {
   "cell_type": "code",
   "execution_count": null,
   "metadata": {},
   "outputs": [],
   "source": [
    "dog2.name"
   ]
  },
  {
   "cell_type": "code",
   "execution_count": null,
   "metadata": {},
   "outputs": [],
   "source": [
    "dog2.age"
   ]
  },
  {
   "cell_type": "code",
   "execution_count": null,
   "metadata": {},
   "outputs": [],
   "source": [
    "dog2.sit()"
   ]
  },
  {
   "cell_type": "code",
   "execution_count": null,
   "metadata": {},
   "outputs": [],
   "source": [
    "dog2.roll_over()"
   ]
  },
  {
   "cell_type": "code",
   "execution_count": null,
   "metadata": {},
   "outputs": [],
   "source": [
    "dog2.about_age()"
   ]
  },
  {
   "cell_type": "code",
   "execution_count": null,
   "metadata": {},
   "outputs": [],
   "source": [
    "class Resturant():\n",
    "    def __init__(self, name, cusine_type):\n",
    "        self.name = name\n",
    "        self.cusine_type = cusine_type\n",
    "        \n",
    "    def describe_resturant(self):\n",
    "        print(\"Resturant Name: \"+self.name)\n",
    "        print(\"Cusine Type: \"+self.cusine_type)\n",
    "        \n",
    "    def open_resturant(self):\n",
    "        print(self.name+\" is now open\")\n",
    "        \n",
    "resturant_1 = Resturant(\"Karachi Foods\", \"coco\")\n",
    "resturant_1.describe_resturant()"
   ]
  },
  {
   "cell_type": "code",
   "execution_count": null,
   "metadata": {},
   "outputs": [],
   "source": [
    "resturant_1.open_resturant()"
   ]
  },
  {
   "cell_type": "code",
   "execution_count": null,
   "metadata": {},
   "outputs": [],
   "source": [
    "resturant_2 = Resturant(\"Damthal\", \"koko\")"
   ]
  },
  {
   "cell_type": "code",
   "execution_count": null,
   "metadata": {},
   "outputs": [],
   "source": [
    "resturant_2.describe_resturant()"
   ]
  },
  {
   "cell_type": "code",
   "execution_count": null,
   "metadata": {},
   "outputs": [],
   "source": [
    "resturant_2.open_resturant()"
   ]
  },
  {
   "cell_type": "code",
   "execution_count": null,
   "metadata": {},
   "outputs": [],
   "source": [
    "class User():\n",
    "    def __init__(self, first_name, last_name, e_mail, password):\n",
    "        self.first_name = first_name.strip()\n",
    "        self.last_name = last_name.strip()\n",
    "        self.e_mail = e_mail.lower()\n",
    "        self.password = password\n",
    "        \n",
    "    def describe_user(self):\n",
    "        print(\"User Info\")\n",
    "        print(\"First Name: \"+self.first_name.title())\n",
    "        print(\"Last Name: \"+self.last_name.title())\n",
    "        print(\"Full Name: \"+self.first_name.title()+\" \"+self.last_name.title())\n",
    "        print(\"Email: \"+self.e_mail)\n",
    "        print(\"Password: \"+self.password)\n",
    "        \n",
    "    def greet_user(self):\n",
    "        print(\"Welcome! \"+self.last_name)\n",
    "        \n",
    "\n",
    "user1 = User(\"Abdul\", \"Saboor\", \"asaboor94@gmail.com\", \"123\")\n",
    "user2 = User(\"Rahima\", \"Khan\", \"Rahima@hotmail.com\",\"456\")"
   ]
  },
  {
   "cell_type": "code",
   "execution_count": null,
   "metadata": {},
   "outputs": [],
   "source": [
    "user1.describe_user()"
   ]
  },
  {
   "cell_type": "code",
   "execution_count": null,
   "metadata": {},
   "outputs": [],
   "source": [
    "user1.greet_user() "
   ]
  },
  {
   "cell_type": "code",
   "execution_count": null,
   "metadata": {},
   "outputs": [],
   "source": [
    "user2.describe_user()"
   ]
  },
  {
   "cell_type": "code",
   "execution_count": null,
   "metadata": {},
   "outputs": [],
   "source": [
    "user2.greet_user() "
   ]
  },
  {
   "cell_type": "code",
   "execution_count": null,
   "metadata": {},
   "outputs": [],
   "source": [
    "'''store data of every user in a list of dictionaries'''\n",
    "class User():\n",
    "    def __init__(self, first_name, last_name, e_mail, password):\n",
    "        self.first_name = first_name.strip()\n",
    "        self.last_name = last_name.strip()\n",
    "        self.e_mail = e_mail.lower()\n",
    "        self.password = password\n",
    "        \n",
    "    def describe_user(self):\n",
    "        print(\"User Info\")\n",
    "        print(\"First Name: \"+self.first_name.title())\n",
    "        print(\"Last Name: \"+self.last_name.title())\n",
    "        print(\"Full Name: \"+self.first_name.title()+\" \"+self.last_name.title())\n",
    "        print(\"Email: \"+self.e_mail)\n",
    "        print(\"Password: \"+self.password)\n",
    "        \n",
    "    def greet_user(self):\n",
    "        print(\"Welcome! \"+self.last_name)\n",
    "        \n",
    "    def store_user_info(self):\n",
    "        user_info = {\n",
    "            'first_name': self.first_name.title(),\n",
    "            'last_name': self.last_name.title(),\n",
    "            'Full Name': self.first_name.title()+\" \"+self.last_name.title(),\n",
    "            'e_mail': self.e_mail.lower(),\n",
    "            'password': self.password,\n",
    "        }\n",
    "        return user_info\n",
    "    \n",
    "    def store_in_list(self):\n",
    "        users_info = []\n",
    "        users_info.append(self.user_info)\n",
    "        print(users_info)\n",
    "        \n",
    "\n",
    "user1 = User(\"Abdul\", \"Saboor\", \"asaboor94@gmail.com\", \"123\")\n",
    "user2 = User(\"Rahima\", \"Khan\", \"Rahima@hotmail.com\",\"456\")"
   ]
  },
  {
   "cell_type": "code",
   "execution_count": null,
   "metadata": {},
   "outputs": [],
   "source": [
    "user1.store_user_info()"
   ]
  },
  {
   "cell_type": "code",
   "execution_count": null,
   "metadata": {},
   "outputs": [],
   "source": [
    "user2.store_user_info()"
   ]
  },
  {
   "cell_type": "code",
   "execution_count": null,
   "metadata": {},
   "outputs": [],
   "source": [
    "user1.store_in_list()\n"
   ]
  },
  {
   "cell_type": "code",
   "execution_count": null,
   "metadata": {},
   "outputs": [],
   "source": [
    "user2.store_in_list()"
   ]
  },
  {
   "cell_type": "code",
   "execution_count": null,
   "metadata": {},
   "outputs": [],
   "source": [
    "'''store hone wale data ko dictionary me phenk wadia'''\n",
    "users_info = []\n",
    "users_info.append(user1.store_user_info())\n",
    "users_info.append(user2.store_user_info())\n",
    "print(users_info)"
   ]
  },
  {
   "cell_type": "code",
   "execution_count": null,
   "metadata": {},
   "outputs": [],
   "source": [
    "'''Book examples give neat and clean formatted info'''\n",
    "class Car():\n",
    "    \n",
    "    def __init__(self, make, model, year):\n",
    "        self.make = make\n",
    "        self.model = model\n",
    "        self.year = year\n",
    "    \n",
    "    def get_descriptive_name(self):\n",
    "        long_name = str(self.year) + ' ' + self.make + ' ' + self.model\n",
    "        return long_name.title()\n",
    "\n",
    "my_new_car = Car('audi', 'a4', 2016)\n",
    "print(my_new_car.get_descriptive_name())"
   ]
  },
  {
   "cell_type": "code",
   "execution_count": null,
   "metadata": {},
   "outputs": [],
   "source": []
  },
  {
   "cell_type": "markdown",
   "metadata": {},
   "source": [
    "<a id='h8'></a>\n",
    "### 8. Modifying attribute value"
   ]
  },
  {
   "cell_type": "code",
   "execution_count": null,
   "metadata": {},
   "outputs": [],
   "source": [
    "'''setting a default value of an attribute'''\n",
    "class Car():\n",
    "    \n",
    "    def __init__(self, make, model, year):\n",
    "        self.make = make\n",
    "        self.model = model\n",
    "        self.year = year\n",
    "        self.odometer_reading = 0 # set default value of an attribute\n",
    "    \n",
    "    def get_descriptive_name(self):\n",
    "        long_name = str(self.year) + ' ' + self.make + ' ' + self.model\n",
    "        return long_name.title()\n",
    "    \n",
    "    def read_odometer(self):\n",
    "        print(\"Audometer reading is \"+str(self.odometer_reading))\n",
    "\n",
    "my_new_car = Car('audi', 'a4', 2016)\n",
    "my_new_car.read_odometer()"
   ]
  },
  {
   "cell_type": "code",
   "execution_count": null,
   "metadata": {},
   "outputs": [],
   "source": []
  },
  {
   "cell_type": "markdown",
   "metadata": {},
   "source": [
    "<a id='h8.1'></a>\n",
    "#### 8.1 modify attribute value directly from main(not good method)"
   ]
  },
  {
   "cell_type": "code",
   "execution_count": null,
   "metadata": {},
   "outputs": [],
   "source": [
    "'''Modify attribute value(directly from main) ye use nahei hota'''\n",
    "my_new_car.odometer_reading = 23\n",
    "my_new_car.read_odometer()"
   ]
  },
  {
   "cell_type": "code",
   "execution_count": null,
   "metadata": {},
   "outputs": [],
   "source": []
  },
  {
   "cell_type": "markdown",
   "metadata": {},
   "source": [
    "<a id='h8.2'></a>\n",
    "#### 8.2 Modify attribute value through a method"
   ]
  },
  {
   "cell_type": "code",
   "execution_count": null,
   "metadata": {},
   "outputs": [],
   "source": [
    "'''Modify attribute value(through method) ye use hota h'''\n",
    "class Car():\n",
    "    \n",
    "    def __init__(self, make, model, year):\n",
    "        self.make = make\n",
    "        self.model = model\n",
    "        self.year = year\n",
    "        self.odometer_reading = 0\n",
    "    \n",
    "    def get_descriptive_name(self):\n",
    "        long_name = str(self.year) + ' ' + self.make + ' ' + self.model\n",
    "        return long_name.title()\n",
    "    \n",
    "    def read_odometer(self):\n",
    "        print(\"Audometer reading is \"+str(self.odometer_reading))\n",
    "        \n",
    "    def update_odometer(self, milage): # here data encapsulation\n",
    "        self.odometer_reading+= milage\n",
    "\n",
    "\n",
    "my_new_car = Car('audi', 'a4', 2016)\n",
    "print(\"Before updating: \")\n",
    "my_new_car.read_odometer()"
   ]
  },
  {
   "cell_type": "code",
   "execution_count": null,
   "metadata": {},
   "outputs": [],
   "source": [
    "my_new_car.odometer_reading"
   ]
  },
  {
   "cell_type": "code",
   "execution_count": null,
   "metadata": {},
   "outputs": [],
   "source": [
    "my_new_car.update_odometer(23) # here we changing/updating the value through method"
   ]
  },
  {
   "cell_type": "code",
   "execution_count": null,
   "metadata": {},
   "outputs": [],
   "source": [
    "my_new_car.read_odometer()"
   ]
  },
  {
   "cell_type": "code",
   "execution_count": null,
   "metadata": {},
   "outputs": [],
   "source": [
    "my_new_car.update_odometer(20)"
   ]
  },
  {
   "cell_type": "code",
   "execution_count": null,
   "metadata": {},
   "outputs": [],
   "source": [
    "my_new_car.read_odometer() # ab methods k through khud kaam ho raha h"
   ]
  },
  {
   "cell_type": "code",
   "execution_count": null,
   "metadata": {},
   "outputs": [],
   "source": [
    "'''Modify attribute value(through method) ye use hota h'''\n",
    "class Car():\n",
    "    \n",
    "    def __init__(self, make, model, year):\n",
    "        self.make = make\n",
    "        self.model = model\n",
    "        self.year = year\n",
    "        self.odometer_reading = 0\n",
    "    \n",
    "    def get_descriptive_name(self):\n",
    "        long_name = str(self.year) + ' ' + self.make + ' ' + self.model\n",
    "        return long_name.title()\n",
    "    \n",
    "    def read_odometer(self):\n",
    "        print(\"Audometer reading is \"+str(self.odometer_reading))\n",
    "        \n",
    "    def update_odometer(self, milage):\n",
    "        \"\"\"Set the odometer reading to the given value.Reject the change if it\n",
    "           attempts to roll the odometer back.\"\"\"\n",
    "        if milage >= 0:\n",
    "            self.odometer_reading+= milage\n",
    "            \n",
    "        else:\n",
    "            print(\"Odometer can't roll back\")\n",
    "\n",
    "\n",
    "my_new_car = Car('audi', 'a4', 2016)\n",
    "my_new_car.read_odometer()"
   ]
  },
  {
   "cell_type": "code",
   "execution_count": null,
   "metadata": {},
   "outputs": [],
   "source": [
    "my_new_car.update_odometer(23)\n",
    "my_new_car.read_odometer()"
   ]
  },
  {
   "cell_type": "code",
   "execution_count": null,
   "metadata": {},
   "outputs": [],
   "source": [
    "my_new_car.update_odometer(20)\n",
    "my_new_car.read_odometer()"
   ]
  },
  {
   "cell_type": "code",
   "execution_count": null,
   "metadata": {},
   "outputs": [],
   "source": [
    "my_new_car.update_odometer(0)\n",
    "my_new_car.read_odometer()"
   ]
  },
  {
   "cell_type": "code",
   "execution_count": null,
   "metadata": {},
   "outputs": [],
   "source": [
    "my_new_car.update_odometer(-23)\n",
    "my_new_car.read_odometer()"
   ]
  },
  {
   "cell_type": "code",
   "execution_count": null,
   "metadata": {},
   "outputs": [],
   "source": [
    "'''changing attributes value through a method'''\n",
    "class Patient():\n",
    "    def __init__(self, full_name, age, father_name): \n",
    "        self.full_name = full_name \n",
    "        self.age = age\n",
    "        self.father_name = father_name \n",
    "        \n",
    "    def patient_info_in_1line(self):\n",
    "        information = \"Patient Name: \"+self.full_name+\"\\nFather Name: \"+self.father_name+\"\\nAge: \"+str(self.age)\n",
    "        return information\n",
    "    \n",
    "    def change_patient_age(self, new_age):\n",
    "        self.age = new_age\n",
    "        \n",
    "patient344 = Patient(\"Abdul saboor\", 23, \"Muhammad Feroz\")\n",
    "patient345 = Patient(\"Rahima Khan\", 18, \"Samundar Khan\")\n",
    "patient346 = Patient(\"Bilal Hussain\", 20, \"Usman Hussain\")\n",
    "patient347 = Patient(\"Fizza Shahid\", 18, \"Shahid Hussain\")\n",
    "patient348 = Patient(\"Shehzor Shehzad\", 14, \"Shehzaed Sattar\")\n",
    "print(\"Before changing age: \"+str(patient348.age))\n",
    "patient348.change_patient_age(15) # yani k agar koi cheez update karni ho to OOP me us ka bhi method banta h\n",
    "print(\"After changing age: \"+str(patient348.age))\n",
    "\n",
    "\n",
    "\n",
    "\n"
   ]
  },
  {
   "cell_type": "code",
   "execution_count": null,
   "metadata": {},
   "outputs": [],
   "source": [
    "patient348.age"
   ]
  },
  {
   "cell_type": "code",
   "execution_count": null,
   "metadata": {},
   "outputs": [],
   "source": [
    "patient348.age = 34\n",
    "patient348.age\n"
   ]
  },
  {
   "cell_type": "code",
   "execution_count": null,
   "metadata": {},
   "outputs": [],
   "source": [
    "patient348.change_patient_age(30)\n",
    "patient348.age"
   ]
  },
  {
   "cell_type": "markdown",
   "metadata": {},
   "source": [
    "<b> Note: </b>You can use methods like this to control how users of your pgm update value or perform any operation. You also secure your pgm with check and balance that your user cannot do any unethical activity like rolling back of odometer reading"
   ]
  },
  {
   "cell_type": "code",
   "execution_count": null,
   "metadata": {},
   "outputs": [],
   "source": [
    "class Resturant():\n",
    "    def __init__(self, name, cusine_type):\n",
    "        self.name = name\n",
    "        self.cusine_type = cusine_type\n",
    "        self.number_served = 0\n",
    "        \n",
    "    def describe_resturant(self):\n",
    "        print(\"Resturant Name: \"+self.name)\n",
    "        print(\"Cusine Type: \"+self.cusine_type)\n",
    "        \n",
    "    def open_resturant(self):\n",
    "        print(self.name+\" is now open\")\n",
    "        \n",
    "resturant_1 = Resturant(\"Karachi Foods\", \"coco\")\n",
    "resturant_1.describe_resturant()"
   ]
  },
  {
   "cell_type": "code",
   "execution_count": null,
   "metadata": {},
   "outputs": [],
   "source": [
    "resturant_1.number_served"
   ]
  },
  {
   "cell_type": "code",
   "execution_count": null,
   "metadata": {},
   "outputs": [],
   "source": [
    "resturant_1.number_served = 10 # changing attribut'es value directly"
   ]
  },
  {
   "cell_type": "code",
   "execution_count": null,
   "metadata": {},
   "outputs": [],
   "source": [
    "resturant_1.number_served"
   ]
  },
  {
   "cell_type": "code",
   "execution_count": null,
   "metadata": {},
   "outputs": [],
   "source": [
    "class Resturant():\n",
    "    def __init__(self, name, cusine_type):\n",
    "        self.name = name\n",
    "        self.cusine_type = cusine_type\n",
    "        self.number_served = 0\n",
    "        \n",
    "    def describe_resturant(self):\n",
    "        print(\"Resturant Name: \"+self.name)\n",
    "        print(\"Cusine Type: \"+self.cusine_type)\n",
    "        \n",
    "    def open_resturant(self):\n",
    "        print(self.name+\" is now open\")\n",
    "        \n",
    "    def set_number_served(self, number):\n",
    "        self.number_served = number\n",
    "        \n",
    "    def increment_number_served(self, number):\n",
    "        self.number_served+= number\n",
    "        \n",
    "        \n",
    "resturant_1 = Resturant(\"Karachi Foods\", \"coco\")\n",
    "resturant_1.describe_resturant()"
   ]
  },
  {
   "cell_type": "code",
   "execution_count": null,
   "metadata": {},
   "outputs": [],
   "source": [
    "print(\"before calling method\")\n",
    "resturant_1.number_served"
   ]
  },
  {
   "cell_type": "code",
   "execution_count": null,
   "metadata": {},
   "outputs": [],
   "source": [
    "resturant_1.set_number_served(10)"
   ]
  },
  {
   "cell_type": "code",
   "execution_count": null,
   "metadata": {},
   "outputs": [],
   "source": [
    "print(\"AFTER calling method\")\n",
    "resturant_1.number_served"
   ]
  },
  {
   "cell_type": "code",
   "execution_count": null,
   "metadata": {},
   "outputs": [],
   "source": [
    "resturant_1.increment_number_served(10)\n",
    "resturant_1.number_served"
   ]
  },
  {
   "cell_type": "code",
   "execution_count": null,
   "metadata": {},
   "outputs": [],
   "source": [
    "resturant_1.increment_number_served(10)\n",
    "resturant_1.number_served"
   ]
  },
  {
   "cell_type": "code",
   "execution_count": null,
   "metadata": {},
   "outputs": [],
   "source": [
    "class User():\n",
    "    def __init__(self, first_name, last_name, e_mail, password):\n",
    "        self.first_name = first_name.strip()\n",
    "        self.last_name = last_name.strip()\n",
    "        self.e_mail = e_mail.lower()\n",
    "        self.password = password\n",
    "        self.login_attempts = 0\n",
    "        \n",
    "    def describe_user(self):\n",
    "        print(\"User Info\")\n",
    "        print(\"First Name: \"+self.first_name.title())\n",
    "        print(\"Last Name: \"+self.last_name.title())\n",
    "        print(\"Full Name: \"+self.first_name.title()+\" \"+self.last_name.title())\n",
    "        print(\"Email: \"+self.e_mail)\n",
    "        print(\"Password: \"+self.password)\n",
    "        \n",
    "    def greet_user(self):\n",
    "        print(\"Welcome! \"+self.last_name)\n",
    "        \n",
    "    def increment_login_attempts(self):\n",
    "        self.login_attempts+= 1\n",
    "        \n",
    "    def reset_login_attempts(self):\n",
    "        self.login_attempts = 0    \n",
    "        \n",
    "\n",
    "user1 = User(\"Abdul\", \"Saboor\", \"asaboor94@gmail.com\", \"123\")\n",
    "user2 = User(\"Rahima\", \"Khan\", \"Rahima@hotmail.com\",\"456\")"
   ]
  },
  {
   "cell_type": "code",
   "execution_count": null,
   "metadata": {},
   "outputs": [],
   "source": [
    "user1.login_attempts"
   ]
  },
  {
   "cell_type": "code",
   "execution_count": null,
   "metadata": {},
   "outputs": [],
   "source": [
    "user1.increment_login_attempts()"
   ]
  },
  {
   "cell_type": "code",
   "execution_count": null,
   "metadata": {},
   "outputs": [],
   "source": [
    "user1.login_attempts"
   ]
  },
  {
   "cell_type": "code",
   "execution_count": null,
   "metadata": {},
   "outputs": [],
   "source": [
    "user1.increment_login_attempts()\n",
    "user1.login_attempts"
   ]
  },
  {
   "cell_type": "code",
   "execution_count": null,
   "metadata": {},
   "outputs": [],
   "source": [
    "user1.increment_login_attempts()\n",
    "user1.login_attempts"
   ]
  },
  {
   "cell_type": "code",
   "execution_count": null,
   "metadata": {},
   "outputs": [],
   "source": [
    "user1.increment_login_attempts()\n",
    "user1.login_attempts"
   ]
  },
  {
   "cell_type": "code",
   "execution_count": null,
   "metadata": {},
   "outputs": [],
   "source": [
    "user1.increment_login_attempts()\n",
    "user1.login_attempts"
   ]
  },
  {
   "cell_type": "code",
   "execution_count": null,
   "metadata": {},
   "outputs": [],
   "source": [
    "user1.reset_login_attempts()"
   ]
  },
  {
   "cell_type": "code",
   "execution_count": null,
   "metadata": {},
   "outputs": [],
   "source": [
    "user1.login_attempts"
   ]
  },
  {
   "cell_type": "code",
   "execution_count": null,
   "metadata": {},
   "outputs": [],
   "source": []
  },
  {
   "cell_type": "markdown",
   "metadata": {},
   "source": [
    "<a id='h9'></a>\n",
    "### 9. Inheritance\n",
    "You don’t always have to start from scratch when writing a class. If the class you’re writing is a specialized version of another class you wrote, you can use inheritance. When one class inherits from another, it automatically takes on all the attributes and methods of the first class. The original class is called the parent class, and the new class is the child class. The child class\n",
    "inherits every attribute and method from its parent class but is also free to define new attributes and methods of its own."
   ]
  },
  {
   "cell_type": "code",
   "execution_count": null,
   "metadata": {},
   "outputs": [],
   "source": []
  },
  {
   "cell_type": "markdown",
   "metadata": {},
   "source": [
    "<a id='h9.1'></a>\n",
    "#### 9.1 Defining child class & calling super method"
   ]
  },
  {
   "cell_type": "code",
   "execution_count": null,
   "metadata": {},
   "outputs": [],
   "source": [
    "class Car():\n",
    "    \n",
    "    def __init__(self, make, model, year):\n",
    "        self.make = make\n",
    "        self.model = model\n",
    "        self.year = year\n",
    "        self.odometer_reading = 0\n",
    "    \n",
    "    def get_descriptive_name(self):\n",
    "        long_name = str(self.year) + ' ' + self.make + ' ' + self.model\n",
    "        return long_name.title()\n",
    "    \n",
    "    def read_odometer(self):\n",
    "        print(\"Audometer reading is \"+str(self.odometer_reading))\n",
    "        \n",
    "    def update_odometer(self, milage):\n",
    "        \"\"\"Set the odometer reading to the given value.Reject the change if it\n",
    "           attempts to roll the odometer back.\"\"\"\n",
    "        if milage >= 0:\n",
    "            self.odometer_reading+= milage\n",
    "            \n",
    "        else:\n",
    "            print(\"Odometer can't roll back\")\n",
    "\n",
    "class ElectricCar(Car): #Making child class of car\n",
    "'''The first task Python has when creating an instance from a child class is to\n",
    "assign values to all attributes in the parent class. To do this, the __init__()\n",
    "method for a child class needs help from its parent class.'''\n",
    "    def __init__(self, make, model, year): # initialize attribute of parent class\n",
    "        ''' is a special function that helps Python make\n",
    "connections between the parent and child class. This line tells Python to\n",
    "call the __init__() method from ElectricCar’s parent class, which gives an\n",
    "ElectricCar instance all the attributes of its parent class.'''\n",
    "        super().__init__(make, model, year) # Electric car k parent se init method call karlia\n",
    "\n",
    "my_tesla = ElectricCar('tesla', 'model s', 2016)\n",
    "my_tesla.get_descriptive_name() # child k instance se parent k method ko call kia"
   ]
  },
  {
   "cell_type": "code",
   "execution_count": null,
   "metadata": {},
   "outputs": [],
   "source": [
    "my_tesla.read_odometer() # child k instance se parent k method ko call kia"
   ]
  },
  {
   "cell_type": "code",
   "execution_count": null,
   "metadata": {},
   "outputs": [],
   "source": [
    "my_tesla.update_odometer(10) # child k instance se parent k method ko call kia"
   ]
  },
  {
   "cell_type": "code",
   "execution_count": null,
   "metadata": {},
   "outputs": [],
   "source": [
    "my_tesla.read_odometer()"
   ]
  },
  {
   "cell_type": "code",
   "execution_count": null,
   "metadata": {},
   "outputs": [],
   "source": []
  },
  {
   "cell_type": "markdown",
   "metadata": {},
   "source": [
    "<a id='h9.2'></a>\n",
    "#### 9.2 Defining Attributes and Methods for the Child Class"
   ]
  },
  {
   "cell_type": "code",
   "execution_count": null,
   "metadata": {},
   "outputs": [],
   "source": [
    "'''Defining Attributes and Methods for the Child Class'''\n",
    "class Car():\n",
    "    \n",
    "    def __init__(self, make, model, year):\n",
    "        self.make = make\n",
    "        self.model = model\n",
    "        self.year = year\n",
    "        self.odometer_reading = 0\n",
    "    \n",
    "    def get_descriptive_name(self):\n",
    "        long_name = str(self.year) + ' ' + self.make + ' ' + self.model\n",
    "        return long_name.title()\n",
    "    \n",
    "    def read_odometer(self):\n",
    "        print(\"Audometer reading is \"+str(self.odometer_reading))\n",
    "        \n",
    "    def update_odometer(self, milage):\n",
    "        if milage >= 0:\n",
    "            self.odometer_reading+= milage\n",
    "            \n",
    "        else:\n",
    "            print(\"Odometer can't roll back\")\n",
    "\n",
    "class ElectricCar(Car):\n",
    "    def __init__(self, make, model, year): # agar child class me main se or attribute aa rahe hain to wo bhi yahan int me aaenge\n",
    "        super().__init__(make, model, year) # super me sirf wohi cheezain aaengi jo parent se uth kar aarahi hain\n",
    "        self.battery_size = 70 # define attribute of child class\n",
    "    \n",
    "    def describe_battery(self): # define method for a child class\n",
    "        print(\"This car has a \" + str(self.battery_size) + \"-kWh battery.\")\n",
    "        \n",
    "my_tesla = ElectricCar('tesla', 'model s', 2016)"
   ]
  },
  {
   "cell_type": "code",
   "execution_count": null,
   "metadata": {},
   "outputs": [],
   "source": []
  },
  {
   "cell_type": "markdown",
   "metadata": {},
   "source": [
    "<a id='h9.3'></a>\n",
    "#### 9.3 Calling attributes & methods of child class"
   ]
  },
  {
   "cell_type": "code",
   "execution_count": null,
   "metadata": {},
   "outputs": [],
   "source": [
    "my_tesla.describe_battery()"
   ]
  },
  {
   "cell_type": "code",
   "execution_count": null,
   "metadata": {},
   "outputs": [],
   "source": []
  },
  {
   "cell_type": "markdown",
   "metadata": {},
   "source": [
    "<a id='h9.4'></a>\n",
    "#### 9.4 Method overriding\n",
    "You can override any method from the parent class that doesn’t fit what you’re trying to model with the child class. To do this, you define a method in the child class with the same name as the method you want to override in the parent class. Python will disregard the parent class method and only pay attention to the method you define in the child class."
   ]
  },
  {
   "cell_type": "code",
   "execution_count": null,
   "metadata": {},
   "outputs": [],
   "source": [
    "class Car():\n",
    "    \n",
    "    def __init__(self, make, model, year):\n",
    "        self.make = make\n",
    "        self.model = model\n",
    "        self.year = year\n",
    "        self.odometer_reading = 0\n",
    "    \n",
    "    def get_descriptive_name(self):\n",
    "        long_name = str(self.year) + ' ' + self.make + ' ' + self.model\n",
    "        return long_name.title()\n",
    "    \n",
    "    def read_odometer(self):\n",
    "        print(\"Audometer reading is \"+str(self.odometer_reading))\n",
    "        \n",
    "    def update_odometer(self, milage):\n",
    "        if milage >= 0:\n",
    "            self.odometer_reading+= milage\n",
    "            \n",
    "        else:\n",
    "            print(\"Odometer can't roll back\")\n",
    "            \n",
    "    def fill_oil_tank(self):\n",
    "        print(\"oil tank is filling now\" )\n",
    "\n",
    "class ElectricCar(Car):\n",
    "    def __init__(self, make, model, year): # agar child class me main se or attribute aa rahe hain to wo bhi yahan int me aaenge\n",
    "        super().__init__(make, model, year) # super me sirf wohi cheezain aaengi jo parent se uth kar aarahi hain\n",
    "        self.battery_size = 70 # define attribute of child class\n",
    "    \n",
    "    def describe_battery(self): # define method for a child class\n",
    "        print(\"This car has a \" + str(self.battery_size) + \"-kWh battery.\")\n",
    "    \n",
    "    def fill_oil_tank(self): # overriding the method exist in parent Car class\n",
    "        print(\"Elictric car does not have oil tank\" )\n",
    "\n",
    "        \n",
    "car1 = Car('tesla', 'model s', 2016)\n",
    "my_toyota = ElectricCar(\"Toyota\",\"model: G5\", 2019)"
   ]
  },
  {
   "cell_type": "code",
   "execution_count": null,
   "metadata": {},
   "outputs": [],
   "source": [
    "car1.fill_oil_tank()"
   ]
  },
  {
   "cell_type": "code",
   "execution_count": null,
   "metadata": {},
   "outputs": [],
   "source": [
    "my_toyota.fill_oil_tank() # method overriden"
   ]
  },
  {
   "cell_type": "code",
   "execution_count": null,
   "metadata": {},
   "outputs": [],
   "source": []
  },
  {
   "cell_type": "markdown",
   "metadata": {},
   "source": [
    "<a id='h10'></a>\n",
    "### 10- Using instances as an attribute of a class\n",
    "When modeling something from the real world in code, you may find that you’re adding more and more detail to a class. You’ll find that you have a growing list of attributes and methods and that your files are becoming lengthy. In these situations, you might recognize that part of one class can be written as a separate class. You can break your large class into smaller classes that work together.\n",
    "For example, if we continue adding detail to the ElectricCar class, we might notice that we’re adding many attributes and methods specific to the car’s battery. When we see this happening, we can stop and move those attributes and methods to a separate class called Battery. Then we can use a Battery instance as an attribute in the ElectricCar class"
   ]
  },
  {
   "cell_type": "code",
   "execution_count": null,
   "metadata": {},
   "outputs": [],
   "source": [
    "class Car():\n",
    "    \n",
    "    def __init__(self, make, model, year):\n",
    "        self.make = make\n",
    "        self.model = model\n",
    "        self.year = year\n",
    "        self.odometer_reading = 0\n",
    "    \n",
    "    def get_descriptive_name(self):\n",
    "        long_name = str(self.year) + ' ' + self.make + ' ' + self.model\n",
    "        return long_name.title()\n",
    "    \n",
    "    def read_odometer(self):\n",
    "        print(\"Audometer reading is \"+str(self.odometer_reading))\n",
    "        \n",
    "    def update_odometer(self, milage):\n",
    "        if milage >= 0:\n",
    "            self.odometer_reading+= milage\n",
    "            \n",
    "        else:\n",
    "            print(\"Odometer can't roll back\")\n",
    "            \n",
    "    def fill_oil_tank(self):\n",
    "        print(\"oil tank is filling now\" )\n",
    "\n",
    "class Battery():\n",
    "    def __init__(self, battery_size = 70):\n",
    "        self.battery_size = battery_size\n",
    "        \n",
    "    def describe_battery(self):\n",
    "        print(\"This car has battery \"+str(self.battery_size)+\" KWH\")\n",
    "\n",
    "class ElectricCar(Car):\n",
    "    def __init__(self, make, model, year): \n",
    "        super().__init__(make, model, year)\n",
    "'''This line tells Python to create a new instance of Battery (with a default size\n",
    "of 70, because we’re not specifying a value) and store that instance in the\n",
    "attribute self.battery. This will happen every time the __init__() method\n",
    "is called; any ElectricCar instance will now have a Battery instance created\n",
    "automatically.'''\n",
    "        self.battery = Battery() # ElectricCar me Battery ka instance banaya h\n",
    "                                 # choon k ye class me banaya h is liye self yahan bhi use howa\n",
    "        \n",
    "my_tesla = ElectricCar('tesla', 'model s', 2016)\n",
    "'''This line tells Python to look at the instance my_tesla, find its battery\n",
    "attribute, and call the method describe_battery() that’s associated with the\n",
    "Battery instance stored in the attribute.'''\n",
    "my_tesla.battery.describe_battery() # choon k battery electric car k andar h or ham ne main me electric car ka instance my_tesla k naam se banaya h to ham my_tesloa se jaenge us attribute me(self.battery) jis cko battery ki class assign ki gai h phir us se battery class k method ko approach karen ge"
   ]
  },
  {
   "cell_type": "code",
   "execution_count": null,
   "metadata": {},
   "outputs": [],
   "source": [
    "'''approch a class attribute with another calss obj'''\n",
    "my_tesla.battery.battery_size # yahan bhi uper wala kaam howa"
   ]
  },
  {
   "cell_type": "code",
   "execution_count": null,
   "metadata": {},
   "outputs": [],
   "source": [
    "'''Now define more methods in battery'''\n",
    "class Car():\n",
    "    \n",
    "    def __init__(self, make, model, year):\n",
    "        self.make = make\n",
    "        self.model = model\n",
    "        self.year = year\n",
    "        self.odometer_reading = 0\n",
    "    \n",
    "    def get_descriptive_name(self):\n",
    "        long_name = str(self.year) + ' ' + self.make + ' ' + self.model\n",
    "        return long_name.title()\n",
    "    \n",
    "    def read_odometer(self):\n",
    "        print(\"Audometer reading is \"+str(self.odometer_reading))\n",
    "        \n",
    "    def update_odometer(self, milage):\n",
    "        if milage >= 0:\n",
    "            self.odometer_reading+= milage\n",
    "            \n",
    "        else:\n",
    "            print(\"Odometer can't roll back\")\n",
    "            \n",
    "    def fill_oil_tank(self):\n",
    "        print(\"oil tank is filling now\" )\n",
    "\n",
    "class Battery():\n",
    "    def __init__(self, battery_size = 70):\n",
    "        self.battery_size = battery_size\n",
    "        \n",
    "    def get_range(self): # here we add a new method in battery\n",
    "        if self.battery_size == 70:\n",
    "            range = 240\n",
    "        elif self.battery_size == 85:\n",
    "            range = 270\n",
    "        message = \"This car can go approximately \" + str(range)\n",
    "        message += \" miles on a full charge.\"\n",
    "        print(message)\n",
    "        \n",
    "    def describe_battery(self):\n",
    "        print(\"This car has battery \"+str(self.battery_size)+\" KWH\")\n",
    "\n",
    "class ElectricCar(Car):\n",
    "    def __init__(self, make, model, year): \n",
    "        super().__init__(make, model, year)\n",
    "        self.battery = Battery() \n",
    "                                 \n",
    "        \n",
    "my_tesla = ElectricCar('tesla', 'model s', 2016)"
   ]
  },
  {
   "cell_type": "code",
   "execution_count": null,
   "metadata": {},
   "outputs": [],
   "source": [
    "my_tesla.battery.get_range()"
   ]
  },
  {
   "cell_type": "code",
   "execution_count": null,
   "metadata": {},
   "outputs": [],
   "source": [
    "class Resturant():\n",
    "    def __init__(self, name, cusine_type):\n",
    "        self.name = name\n",
    "        self.cusine_type = cusine_type\n",
    "        self.number_served = 0\n",
    "        \n",
    "    def describe_resturant(self):\n",
    "        print(\"Resturant Name: \"+self.name)\n",
    "        print(\"Cusine Type: \"+self.cusine_type)\n",
    "        \n",
    "    def open_resturant(self):\n",
    "        print(self.name+\" is now open\")\n",
    "        \n",
    "    def set_number_served(self, number):\n",
    "        self.number_served = number\n",
    "        \n",
    "    def increment_number_served(self, number):\n",
    "        self.number_served+= number\n",
    "        \n",
    "class IceCreamStand(Resturant):\n",
    "    def __init__(self, name, cusine_type):\n",
    "        super().__init__(name, cusine_type)\n",
    "        self.flavours = ['vanilla', 'strawberry', 'chocolate', 'blue berry']\n",
    "        \n",
    "    def display_flavour(self):\n",
    "        s = ''\n",
    "        n = 0\n",
    "        for i in self.flavours:\n",
    "            n+= 1\n",
    "            s+= str(n)+\"- \"+i+\"   \"\n",
    "        print(\"We provide following flavours:\\n\"+s)"
   ]
  },
  {
   "cell_type": "code",
   "execution_count": null,
   "metadata": {},
   "outputs": [],
   "source": [
    "resturant_1 = Resturant(\"Karachi Foods\", \"coco\")\n",
    "resturant_1.describe_resturant()"
   ]
  },
  {
   "cell_type": "code",
   "execution_count": null,
   "metadata": {},
   "outputs": [],
   "source": [
    "resturant2 = IceCreamStand(\"Karachi Foods\", \"coco\")\n",
    "resturant2.describe_resturant()"
   ]
  },
  {
   "cell_type": "markdown",
   "metadata": {},
   "source": [
    "                Both above instances of diff classes working perfectly\n"
   ]
  },
  {
   "cell_type": "code",
   "execution_count": null,
   "metadata": {},
   "outputs": [],
   "source": [
    "'''Give error b/c resturant_1 is an instance of Resturant which does not have method display_flavour'''\n",
    "resturant_1.display_flavour() #AttributeError: 'Resturant' object has no attribute 'display_flavour'\n"
   ]
  },
  {
   "cell_type": "code",
   "execution_count": null,
   "metadata": {},
   "outputs": [],
   "source": [
    "resturant2.display_flavour()"
   ]
  },
  {
   "cell_type": "code",
   "execution_count": null,
   "metadata": {},
   "outputs": [],
   "source": [
    "class User():\n",
    "    def __init__(self, first_name, last_name, e_mail, password):\n",
    "        self.first_name = first_name.strip()\n",
    "        self.last_name = last_name.strip()\n",
    "        self.e_mail = e_mail.lower()\n",
    "        self.password = password\n",
    "        self.login_attempts = 0\n",
    "        \n",
    "    def describe_user(self):\n",
    "        print(\"User Info\")\n",
    "        print(\"First Name: \"+self.first_name.title())\n",
    "        print(\"Last Name: \"+self.last_name.title())\n",
    "        print(\"Full Name: \"+self.first_name.title()+\" \"+self.last_name.title())\n",
    "        print(\"Email: \"+self.e_mail)\n",
    "        print(\"Password: \"+self.password)\n",
    "        \n",
    "    def greet_user(self):\n",
    "        print(\"Welcome! \"+self.last_name)\n",
    "        \n",
    "    def increment_login_attempts(self):\n",
    "        self.login_attempts+= 1\n",
    "        \n",
    "    def reset_login_attempts(self):\n",
    "        self.login_attempts = 0    \n",
    "        \n",
    "class Admin(User):\n",
    "    def __init__(self, first_name, last_name, e_mail, password):\n",
    "        super().__init__(first_name, last_name, e_mail, password)\n",
    "        self.priviliges = ['can add post', 'can delete post', 'can ban user']\n",
    "        \n",
    "    def show_priviliges(self):\n",
    "        n = 0\n",
    "        s = ''\n",
    "        for i in self.priviliges:\n",
    "            n+= 1\n",
    "            s+=str(n)+\"- \"+i+\"   \"\n",
    "        return s.strip()"
   ]
  },
  {
   "cell_type": "code",
   "execution_count": null,
   "metadata": {},
   "outputs": [],
   "source": [
    "admin1 = Admin(\"Abdul\", \"Saboor\", \"asaboor94@gmail.com\", \"123\")"
   ]
  },
  {
   "cell_type": "code",
   "execution_count": null,
   "metadata": {},
   "outputs": [],
   "source": [
    "admin1.first_name"
   ]
  },
  {
   "cell_type": "code",
   "execution_count": null,
   "metadata": {},
   "outputs": [],
   "source": [
    "admin1.last_name"
   ]
  },
  {
   "cell_type": "code",
   "execution_count": null,
   "metadata": {},
   "outputs": [],
   "source": [
    "admin1.e_mail"
   ]
  },
  {
   "cell_type": "code",
   "execution_count": null,
   "metadata": {},
   "outputs": [],
   "source": [
    "admin1.show_priviliges()"
   ]
  },
  {
   "cell_type": "code",
   "execution_count": null,
   "metadata": {},
   "outputs": [],
   "source": [
    "class User():\n",
    "    def __init__(self, first_name, last_name, e_mail, password):\n",
    "        self.first_name = first_name.strip()\n",
    "        self.last_name = last_name.strip()\n",
    "        self.e_mail = e_mail.lower()\n",
    "        self.password = password\n",
    "        self.login_attempts = 0\n",
    "        \n",
    "    def describe_user(self):\n",
    "        print(\"User Info\")\n",
    "        print(\"First Name: \"+self.first_name.title())\n",
    "        print(\"Last Name: \"+self.last_name.title())\n",
    "        print(\"Full Name: \"+self.first_name.title()+\" \"+self.last_name.title())\n",
    "        print(\"Email: \"+self.e_mail)\n",
    "        print(\"Password: \"+self.password)\n",
    "        \n",
    "    def greet_user(self):\n",
    "        print(\"Welcome! \"+self.last_name)\n",
    "        \n",
    "    def increment_login_attempts(self):\n",
    "        self.login_attempts+= 1\n",
    "        \n",
    "    def reset_login_attempts(self):\n",
    "        self.login_attempts = 0    \n",
    "        \n",
    "class Privileges():\n",
    "    def __init__(self):\n",
    "        self.privileges = ['can add post', 'can delete post', 'can ban user']\n",
    "        \n",
    "    def show_priviliges(self):\n",
    "        n = 0\n",
    "        s = ''\n",
    "        for i in self.privileges:\n",
    "            n+= 1\n",
    "            s+=str(n)+\"- \"+i+\"   \"\n",
    "        return s.strip()\n",
    "        \n",
    "class Admin(User):\n",
    "    def __init__(self, first_name, last_name, e_mail, password):\n",
    "        super().__init__(first_name, last_name, e_mail, password)\n",
    "        self.priviliges_list = Privileges()\n",
    "        \n"
   ]
  },
  {
   "cell_type": "code",
   "execution_count": null,
   "metadata": {},
   "outputs": [],
   "source": [
    "admin1 = Admin(\"Abdul\", \"Saboor\", \"asaboor94@gmail.com\", \"123\")"
   ]
  },
  {
   "cell_type": "code",
   "execution_count": null,
   "metadata": {},
   "outputs": [],
   "source": [
    "admin1.priviliges_list.show_priviliges()"
   ]
  },
  {
   "cell_type": "code",
   "execution_count": null,
   "metadata": {},
   "outputs": [],
   "source": [
    "'''Now define more methods in battery'''\n",
    "class Car():\n",
    "    \n",
    "    def __init__(self, make, model, year):\n",
    "        self.make = make\n",
    "        self.model = model\n",
    "        self.year = year\n",
    "        self.odometer_reading = 0\n",
    "    \n",
    "    def get_descriptive_name(self):\n",
    "        long_name = str(self.year) + ' ' + self.make + ' ' + self.model\n",
    "        return long_name.title()\n",
    "    \n",
    "    def read_odometer(self):\n",
    "        print(\"Audometer reading is \"+str(self.odometer_reading))\n",
    "        \n",
    "    def update_odometer(self, milage):\n",
    "        if milage >= 0:\n",
    "            self.odometer_reading+= milage\n",
    "            \n",
    "        else:\n",
    "            print(\"Odometer can't roll back\")\n",
    "            \n",
    "    def fill_oil_tank(self):\n",
    "        print(\"oil tank is filling now\" )\n",
    "\n",
    "class Battery():\n",
    "    def __init__(self, battery_size = 70):\n",
    "        self.battery_size = battery_size\n",
    "        \n",
    "    def get_range(self): # here we add a new method in battery\n",
    "        if self.battery_size == 70:\n",
    "            range = 240\n",
    "        elif self.battery_size == 85:\n",
    "            range = 270\n",
    "        message = \"This car can go approximately \" + str(range)\n",
    "        message += \" miles on a full charge.\"\n",
    "        print(message)\n",
    "        \n",
    "    def describe_battery(self):\n",
    "        print(\"This car has battery \"+str(self.battery_size)+\" KWH\")\n",
    "        \n",
    "    def upgrade_battery(self):\n",
    "        if self.battery_size != 85:\n",
    "            self.battery_size = 85\n",
    "\n",
    "class ElectricCar(Car):\n",
    "    def __init__(self, make, model, year): \n",
    "        super().__init__(make, model, year)\n",
    "        self.battery = Battery() \n",
    "                                 \n",
    "        \n",
    "my_tesla = ElectricCar('tesla', 'model s', 2016)"
   ]
  },
  {
   "cell_type": "code",
   "execution_count": null,
   "metadata": {},
   "outputs": [],
   "source": [
    "my_tesla.battery.get_range()"
   ]
  },
  {
   "cell_type": "code",
   "execution_count": null,
   "metadata": {},
   "outputs": [],
   "source": [
    "my_tesla.battery.upgrade_battery()"
   ]
  },
  {
   "cell_type": "code",
   "execution_count": null,
   "metadata": {},
   "outputs": [],
   "source": [
    "my_tesla.battery.get_range()"
   ]
  },
  {
   "cell_type": "code",
   "execution_count": null,
   "metadata": {},
   "outputs": [],
   "source": []
  },
  {
   "cell_type": "markdown",
   "metadata": {},
   "source": [
    "<a id='h11'></a>\n",
    "### 11. Importing Classes\n",
    "Importing classes is an effective way to program. Picture how long this program file would be if the entire Car class were included. When you instead move the class to a module and import the module, you still get all the same functionality, but you keep your main program file clean and easy to read. You also store most of the logic in separate files; once your classes work as you want them to, you can leave those files alone and focus on the higher-level logic of your main program."
   ]
  },
  {
   "cell_type": "code",
   "execution_count": null,
   "metadata": {},
   "outputs": [],
   "source": [
    "from random import randint # random is module and randint is a class\n",
    "x = randint(1, 6)\n",
    "x"
   ]
  },
  {
   "cell_type": "code",
   "execution_count": null,
   "metadata": {},
   "outputs": [],
   "source": [
    "from random import randint\n",
    "class Die():\n",
    "    def __init__(self):\n",
    "        self.sides = 6\n",
    "        \n",
    "    def roll_die(self):\n",
    "        s = ''\n",
    "        for i in range(1,11):\n",
    "            x = randint(1, 6)\n",
    "            s+= str(i)+\"- \"+str(x)+\"    \"\n",
    "        return s\n",
    "    \n",
    "die  = Die()\n",
    "        "
   ]
  },
  {
   "cell_type": "code",
   "execution_count": null,
   "metadata": {},
   "outputs": [],
   "source": [
    "die.roll_die()"
   ]
  },
  {
   "cell_type": "code",
   "execution_count": null,
   "metadata": {},
   "outputs": [],
   "source": [
    "      # To explore other interesting modules in python explore \n",
    "      # http://pymotw.com/ "
   ]
  },
  {
   "cell_type": "code",
   "execution_count": null,
   "metadata": {},
   "outputs": [],
   "source": []
  },
  {
   "cell_type": "markdown",
   "metadata": {},
   "source": [
    "<a id='h12'></a>\n",
    "### 12. Applying Polymorphism"
   ]
  },
  {
   "cell_type": "code",
   "execution_count": null,
   "metadata": {},
   "outputs": [],
   "source": [
    "class Parrot:\n",
    "\n",
    "    def fly(self):\n",
    "        print(\"Parrot can fly\")\n",
    "    \n",
    "    def swim(self):\n",
    "        print(\"Parrot can't swim\")\n",
    "\n",
    "class Penguin:\n",
    "\n",
    "    def fly(self):\n",
    "        print(\"Penguin can't fly\")\n",
    "    \n",
    "    def swim(self):\n",
    "        print(\"Penguin can swim\")\n",
    "\n",
    "# common interface\n",
    "def flying_test(bird):\n",
    "    bird.fly()\n",
    "\n",
    "#instantiate objects\n",
    "blu = Parrot()\n",
    "peggy = Penguin()\n",
    "\n",
    "# passing the object\n",
    "flying_test(blu)\n",
    "flying_test(peggy)"
   ]
  },
  {
   "cell_type": "code",
   "execution_count": null,
   "metadata": {},
   "outputs": [],
   "source": []
  },
  {
   "cell_type": "markdown",
   "metadata": {},
   "source": [
    "In the above program, we defined two classes Parrot and Penguin. Each of them have common method fly() method. However, their functions are different. To allow polymorphism, we created common interface i.e flying_test() function that can take any object. Then, we passed the objects blu and peggy in the flying_test() function, it ran effectively."
   ]
  },
  {
   "cell_type": "markdown",
   "metadata": {},
   "source": [
    "<a id='h13'></a>\n",
    "### 13. Applying Data Encapsulation"
   ]
  },
  {
   "cell_type": "code",
   "execution_count": null,
   "metadata": {},
   "outputs": [],
   "source": [
    "class Computer:\n",
    "\n",
    "    def __init__(self):\n",
    "        self.__maxprice = 900\n",
    "\n",
    "    def sell(self):\n",
    "        print(\"Selling Price: {}\".format(self.__maxprice))\n",
    "\n",
    "    def setMaxPrice(self, price):\n",
    "        self.__maxprice = price\n",
    "\n",
    "c = Computer()\n",
    "c.sell()\n",
    "\n",
    "# change the price\n",
    "c.__maxprice = 1000\n",
    "c.sell()\n",
    "\n",
    "# using setter function\n",
    "c.setMaxPrice(1000)\n",
    "c.sell()"
   ]
  },
  {
   "cell_type": "markdown",
   "metadata": {},
   "source": [
    "In the above program, we defined a class Computer. We use __init__() method to store the maximum selling price of computer. We tried to modify the price. However, we can’t change it because Python treats the __maxprice as private attributes. To change the value, we used a setter function i.e setMaxPrice() which takes price as parameter."
   ]
  },
  {
   "cell_type": "markdown",
   "metadata": {},
   "source": [
    "# Summary"
   ]
  },
  {
   "cell_type": "markdown",
   "metadata": {},
   "source": [
    "   [Object Oriented Programming(OOP)](#oop)<br><br>\n",
    "[1. Define a class](#h1)<br>\n",
    "[2. Diefine init method & create objects of a class](#h2)<br>\n",
    "[3. Call attributes of a class with different methods](#h3)<br>\n",
    "[4. Add attributes to a class](#h4)<br>\n",
    "[5. Call different attributes](#h5)<br>\n",
    "[6. Adding methods to a class](#h6)<br>\n",
    "[7. Calling methods of a class](#h7)<br>\n",
    "[8. Modifying attributes value](#h8)<br>\n",
    "> [8.1. modify attributes value directly from main](#h8.1)<br>\n",
    "[8.2. modify attributes value through a method](#h8.2)\n"
   ]
  },
  {
   "cell_type": "markdown",
   "metadata": {},
   "source": [
    "[9. Inheritance](#h9)<br>\n",
    ">[9.1 defining child class & calling super method](#h9.1)<br>\n",
    "[9.2 defining attributes & methods of child class](#h9.2)<br>\n",
    "[9.3 calling attributes & methods of child class](#h9.3)<br>\n",
    "[9.4 method overriding](#h9.4)"
   ]
  },
  {
   "cell_type": "markdown",
   "metadata": {},
   "source": [
    "[10. Using instances as an attribute of a class](#h10)<br>\n",
    "[11. Importing classes](#h11)<br>\n",
    "[12. Applying polymorphism](#h12)<br>\n",
    "[13. Aplying data encapsulation](#h13)<br>"
   ]
  },
  {
   "cell_type": "code",
   "execution_count": null,
   "metadata": {},
   "outputs": [],
   "source": []
  }
 ],
 "metadata": {
  "kernelspec": {
   "display_name": "Python 3",
   "language": "python",
   "name": "python3"
  }
 },
 "nbformat": 4,
 "nbformat_minor": 2
}
